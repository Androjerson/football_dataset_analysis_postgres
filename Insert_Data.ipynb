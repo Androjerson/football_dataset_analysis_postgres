{
 "cells": [
  {
   "cell_type": "markdown",
   "id": "705e1fb3-ab1c-4531-8531-06ffb65c583f",
   "metadata": {},
   "source": [
    "Using <b>spycopg2</b> python library to <i>interact with PostgreSQL<i> and <b>pandas</b> for <i>data manipulation</i>.\n",
    "Importing sql queries from <b>sql_queries</b> python file"
   ]
  },
  {
   "cell_type": "code",
   "execution_count": null,
   "id": "faae981a-0281-44d1-8ff0-5fbae614f1d9",
   "metadata": {},
   "outputs": [],
   "source": [
    "import psycopg2\n",
    "import pandas as pd\n",
    "import boto3\n",
    "import json\n",
    "from sql_queries import *"
   ]
  },
  {
   "cell_type": "markdown",
   "id": "ac0449a7-9918-49a8-ba44-9c1d046c0ff5",
   "metadata": {},
   "source": [
    "Connect to the <b>football db</b>"
   ]
  },
  {
   "cell_type": "code",
   "execution_count": null,
   "id": "c6706346-dab1-4a3e-a2f1-bf61147e6d38",
   "metadata": {},
   "outputs": [],
   "source": [
    "# Function to connect to the database \n",
    "def connect_database():\n",
    "        try: \n",
    "            client = boto3.client('secretsmanager',region_name='us-east-1')\n",
    "            response = client.get_secret_value(\n",
    "                SecretId='dev/postgress',\n",
    "            )\n",
    "    \n",
    "            respDict=json.loads(response['SecretString'])\n",
    "            # connect to the default database \n",
    "            conn=psycopg2.connect(host=respDict[\"host\"],\n",
    "                                  dbname=\"football_db\",\n",
    "                                  user=respDict[\"username\"],\n",
    "                                  password=respDict[\"password\"])    \n",
    "            cur=conn.cursor()\n",
    "        except psycopg2.Error as e:\n",
    "            raise e\n",
    "\n",
    "        return conn,cur"
   ]
  },
  {
   "cell_type": "code",
   "execution_count": null,
   "id": "9c50db72-0fcf-42cc-810e-cbd4fbce46e2",
   "metadata": {},
   "outputs": [],
   "source": [
    "# Function to execute the insert query \n",
    "def insert_data(conn,cur,file,insert_query):\n",
    "    for i,row in file.iterrows():\n",
    "        try:\n",
    "            cur.execute(insert_query,list(row))\n",
    "            conn.commit()\n",
    "        except psycopg2.Error as e:\n",
    "            print(\"Error:Inserting records into table\")\n",
    "            print(e)\n",
    "            conn.rollback()"
   ]
  },
  {
   "cell_type": "code",
   "execution_count": null,
   "id": "b71103ef-00f9-4108-8f48-bb5e3aa2a73a",
   "metadata": {},
   "outputs": [],
   "source": [
    "#calling the function to connect to the db\n",
    "conn,cur=connect_database()\n"
   ]
  },
  {
   "cell_type": "code",
   "execution_count": null,
   "id": "4144fb06-d606-47e0-9d0a-12577eba8670",
   "metadata": {},
   "outputs": [],
   "source": [
    "# CSV file is encoded in latin.\n",
    "# Quoting flag can be used if the data in csv file is quoted \n",
    "\n",
    "players_data=pd.read_csv(\"Data/players.csv\",encoding='latin-1')\n",
    "\n",
    "teams_data=pd.read_csv(\"Data/teams.csv\",encoding='latin-1',quoting=2)\n",
    "\n",
    "leagues_data=pd.read_csv(\"Data/leagues.csv\",quoting=2)\n",
    "\n",
    "games_data=pd.read_csv(\"Data/games.csv\",encoding='latin-1')\n",
    "\n",
    "shots_data=pd.read_csv(\"Data/shots.csv\",encoding='latin-1')\n",
    "\n",
    "team_stats=pd.read_csv(\"Data/teamstats.csv\",encoding='latin-1')\n",
    "\n",
    "player_stats_data=pd.read_csv(\"Data/playerstats.csv\",encoding='latin-1')"
   ]
  },
  {
   "cell_type": "code",
   "execution_count": null,
   "id": "57fdbe56-38cd-4141-9731-af567feba74a",
   "metadata": {},
   "outputs": [],
   "source": [
    "# Cleaning the data \n",
    "# Only selecting the columns that required for loading into table \n",
    "games_data_clean=games_data[[\"gameID\",\"leagueID\",\"season\",\"date\",\"homeTeamID\",\"awayTeamID\",\"homeGoals\",\"awayGoals\",\"homeProbability\",\"drawProbability\"]]\n",
    "\n",
    "team_stats_clean=team_stats[[\"gameID\",\"teamID\",\"season\",\"date\",\"location\",\"goals\",\"xGoals\",\"shots\",\"shotsOnTarget\",\"deep\"]]\n",
    "\n",
    "player_stats_data_clean=player_stats_data[[\"gameID\",\"playerID\",\"goals\",\"ownGoals\",\"shots\",\"xGoals\",\"xGoalsChain\",\"assists\",\"keyPasses\"]]"
   ]
  },
  {
   "cell_type": "code",
   "execution_count": null,
   "id": "77afef28-1bdf-4246-8dee-7449fbf68244",
   "metadata": {},
   "outputs": [],
   "source": [
    "# Validating whether data is in data frame\n",
    "players_data.head()"
   ]
  },
  {
   "cell_type": "code",
   "execution_count": null,
   "id": "9729caef-2383-445f-af51-37c981c0d28d",
   "metadata": {},
   "outputs": [],
   "source": [
    "teams_data.head()"
   ]
  },
  {
   "cell_type": "code",
   "execution_count": null,
   "id": "b3e8cf05-b372-4ac7-91de-f3500d8e3673",
   "metadata": {},
   "outputs": [],
   "source": [
    "leagues_data.head()"
   ]
  },
  {
   "cell_type": "code",
   "execution_count": null,
   "id": "9876a242-7120-4912-92dd-b2d721581590",
   "metadata": {},
   "outputs": [],
   "source": [
    "games_data_clean.head()"
   ]
  },
  {
   "cell_type": "code",
   "execution_count": null,
   "id": "2c7335b9-6305-4fa9-8d40-ca75b03838e8",
   "metadata": {},
   "outputs": [],
   "source": [
    "shots_data.head()"
   ]
  },
  {
   "cell_type": "code",
   "execution_count": null,
   "id": "6086f4bd-8d8a-431c-9c22-da1ee3cd3e36",
   "metadata": {},
   "outputs": [],
   "source": [
    "team_stats_clean.head()"
   ]
  },
  {
   "cell_type": "code",
   "execution_count": null,
   "id": "8be68bce-64ee-4899-b05e-a2dc43dac47a",
   "metadata": {},
   "outputs": [],
   "source": [
    "player_stats_data.head()"
   ]
  },
  {
   "cell_type": "code",
   "execution_count": null,
   "id": "b73cf900-3c5a-4e5c-b1d7-6a5e768cc6d7",
   "metadata": {},
   "outputs": [],
   "source": [
    "conn.rollback()"
   ]
  },
  {
   "cell_type": "code",
   "execution_count": null,
   "id": "a90631ab-20a6-4d40-bc1d-eeb0e8a325c5",
   "metadata": {},
   "outputs": [],
   "source": [
    "#insert data into players table from dataframe \n",
    "insert_data(conn,cur,players_data,players_insert_query)"
   ]
  },
  {
   "cell_type": "code",
   "execution_count": null,
   "id": "75f42b81-30d9-4047-b0ef-966ce0d3cee8",
   "metadata": {},
   "outputs": [],
   "source": [
    "insert_data(conn,cur,teams_data,teams_insert_query)"
   ]
  },
  {
   "cell_type": "code",
   "execution_count": null,
   "id": "a14391c9-31c3-45fb-bed8-182e5ba027d3",
   "metadata": {},
   "outputs": [],
   "source": [
    "insert_data(conn,cur,leagues_data,leagues_insert_query)"
   ]
  },
  {
   "cell_type": "code",
   "execution_count": null,
   "id": "f4a96b9a-5a64-4691-902d-b9751dd83599",
   "metadata": {},
   "outputs": [],
   "source": [
    "for i,row in games_data.iterrows():\n",
    "    try:\n",
    "        cur.execute(games_insert_query,(row.gameID,row.leagueID,row.season,pd.to_datetime(row[\"date\"],format='%Y-%m-%d %H:%M:%S'),row.homeTeamID,\n",
    "                row.awayTeamID,row.homeGoals,row.awayGoals,row.homeProbability,row.drawProbability))\n",
    "        conn.commit()\n",
    "    except psycopg2.Error as e:\n",
    "        print(e)\n",
    "        conn.rollback()"
   ]
  },
  {
   "cell_type": "code",
   "execution_count": null,
   "id": "554dd2ad-d01d-4cfd-8856-ec8f773d1c02",
   "metadata": {},
   "outputs": [],
   "source": [
    "insert_data(conn,cur,shots_data,shots_insert_query)"
   ]
  },
  {
   "cell_type": "code",
   "execution_count": null,
   "id": "22341599-7a7f-42e1-af52-37e8a7e7a7d0",
   "metadata": {},
   "outputs": [],
   "source": [
    "for i,row in team_stats_clean.iterrows():\n",
    "    try:\n",
    "        cur.execute(team_stats_insert_query,((row.gameID,row.teamID,row.season,pd.to_datetime(row[\"date\"],format='%Y-%m-%d %H:%M:%S'),row.location,\n",
    "                row.goals,row.xGoals,row.shots,row.shotsOnTarget,row.deep)))\n",
    "        conn.commit()\n",
    "    except psycopg2.Error as e:\n",
    "        print(e)\n",
    "        conn.rollback()"
   ]
  },
  {
   "cell_type": "code",
   "execution_count": null,
   "id": "b42271dc-09d2-4b0e-981e-6626933a5626",
   "metadata": {},
   "outputs": [],
   "source": [
    "insert_data(conn,cur,player_stats_data_clean,player_stats_insert_query)"
   ]
  },
  {
   "cell_type": "code",
   "execution_count": null,
   "id": "41517af7-6a56-4175-8401-8a34c6efd197",
   "metadata": {},
   "outputs": [],
   "source": [
    "# Post validation after inserting the records\n",
    "cur.execute(players_select);\n",
    "for row in cur:\n",
    "    print(list(row))"
   ]
  },
  {
   "cell_type": "code",
   "execution_count": null,
   "id": "be374869-5aee-490a-8cd1-750512644462",
   "metadata": {},
   "outputs": [],
   "source": [
    "cur.execute(teams_select);\n",
    "for row in cur:\n",
    "    print(list(row))"
   ]
  },
  {
   "cell_type": "code",
   "execution_count": null,
   "id": "5b417d54-8b52-409c-9fc7-71aaca8ee240",
   "metadata": {},
   "outputs": [],
   "source": [
    "cur.execute(leagues_select);\n",
    "for row in cur:\n",
    "    print(list(row))"
   ]
  },
  {
   "cell_type": "code",
   "execution_count": null,
   "id": "d040bddf-2388-4fc4-b015-04392b28fd9a",
   "metadata": {},
   "outputs": [],
   "source": [
    "cur.execute(games_select);\n",
    "for row in cur:\n",
    "    print(list(row))"
   ]
  },
  {
   "cell_type": "code",
   "execution_count": null,
   "id": "14b0cba0-09e8-461a-9790-badb7fdc46e1",
   "metadata": {},
   "outputs": [],
   "source": [
    "cur.execute(shots_select);\n",
    "for row in cur:\n",
    "    print(list(row))"
   ]
  },
  {
   "cell_type": "code",
   "execution_count": null,
   "id": "64e8ac7a-9b75-4589-92dd-409653335323",
   "metadata": {},
   "outputs": [],
   "source": [
    "cur.execute(team_stats_select);\n",
    "for row in cur:\n",
    "    print(list(row))"
   ]
  },
  {
   "cell_type": "code",
   "execution_count": null,
   "id": "562600a4-6918-46a9-ad76-10e087be2dfa",
   "metadata": {},
   "outputs": [],
   "source": [
    "cur.execute(players_stats_select);\n",
    "for row in cur:\n",
    "    print(list(row))"
   ]
  },
  {
   "cell_type": "code",
   "execution_count": null,
   "id": "a5aa218d-9659-47c7-ac95-4bae7369f470",
   "metadata": {},
   "outputs": [],
   "source": [
    "#Fetch the top 5 players in terms of goals\n",
    "cur.execute(top_players);"
   ]
  },
  {
   "cell_type": "code",
   "execution_count": null,
   "id": "a721968a-03ef-473a-9dc5-c369756c2805",
   "metadata": {},
   "outputs": [],
   "source": [
    "print('player_id','player_name','total_goals')\n",
    "for row in cur:\n",
    "    print(list(row))"
   ]
  },
  {
   "cell_type": "code",
   "execution_count": null,
   "id": "bf84a8d7-c601-46b7-80e9-e67bd5f6512e",
   "metadata": {},
   "outputs": [],
   "source": [
    "conn.close()"
   ]
  }
 ],
 "metadata": {
  "kernelspec": {
   "display_name": "Python 3 (ipykernel)",
   "language": "python",
   "name": "python3"
  },
  "language_info": {
   "codemirror_mode": {
    "name": "ipython",
    "version": 3
   },
   "file_extension": ".py",
   "mimetype": "text/x-python",
   "name": "python",
   "nbconvert_exporter": "python",
   "pygments_lexer": "ipython3",
   "version": "3.11.8"
  }
 },
 "nbformat": 4,
 "nbformat_minor": 5
}
