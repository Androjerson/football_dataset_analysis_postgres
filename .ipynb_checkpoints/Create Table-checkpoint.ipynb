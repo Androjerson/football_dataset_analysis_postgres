{
 "cells": [
  {
   "cell_type": "markdown",
   "id": "20b4322e-1901-4185-bd6b-28e41eba1f3a",
   "metadata": {},
   "source": [
    "Using <b>spycopg2</b> python library to <i>interact with PostgreSQL<i> and <b>pandas</b> for <i>data manipulation</i>"
   ]
  },
  {
   "cell_type": "code",
   "execution_count": 25,
   "id": "1c142ea1-1fa2-44a7-8d1d-8f7e614c878d",
   "metadata": {},
   "outputs": [],
   "source": [
    "import psycopg2\n",
    "import pandas as pd\n",
    "import boto3\n",
    "import json\n",
    "from sql_queries import create_table_queries"
   ]
  },
  {
   "cell_type": "markdown",
   "id": "dc077d0c-ff8a-4914-8f03-cb18e7c1597d",
   "metadata": {},
   "source": [
    "Creating a user-defined function to connect and create PostgreSQL. Also intialize in-built functions to execute SQL queries"
   ]
  },
  {
   "cell_type": "code",
   "execution_count": 26,
   "id": "d1455c76-8e72-44fd-9eb5-fe6a993eb837",
   "metadata": {},
   "outputs": [],
   "source": [
    "def create_database():\n",
    "        \n",
    "        \"\"\"\n",
    "        -creates and connects to the football DB\n",
    "        -returns the connection and cursor to football DB \n",
    "        \"\"\"\n",
    "        try: \n",
    "            client = boto3.client('secretsmanager',region_name='us-east-1')\n",
    "            response = client.get_secret_value(\n",
    "                SecretId='dev/postgress',\n",
    "            )\n",
    "    \n",
    "            respDict=json.loads(response['SecretString'])\n",
    "            # connect to the default database \n",
    "            conn=psycopg2.connect(host=respDict[\"host\"],\n",
    "                                  dbname=\"postgres\",\n",
    "                                  user=respDict[\"username\"],\n",
    "                                  password=respDict[\"password\"])\n",
    "            conn.set_session(autocommit=True)\n",
    "            cur=conn.cursor()\n",
    "                \n",
    "            # create the football db \n",
    "            cur.execute(\"DROP DATABASE football_db\")\n",
    "            cur.execute(\"CREATE DATABASE football_db\")\n",
    "    \n",
    "            #closing the connection to the default db \n",
    "            conn.close()\n",
    "        \n",
    "            # connect to the football db\n",
    "            conn=psycopg2.connect(host=respDict[\"host\"],\n",
    "                                  dbname=\"football_db\",\n",
    "                                  user=respDict[\"username\"],\n",
    "                                  password=respDict[\"password\"])\n",
    "            print(respDict[\"host\"],respDict[\"username\"],respDict[\"password\"])\n",
    "            cur=conn.cursor()\n",
    "            print(cur)\n",
    "            conn.set_session(autocommit=True)\n",
    "        except psycopg2.Error as e:\n",
    "            print(\"Error in creating the database\")\n",
    "            raise e\n",
    "\n",
    "        return conn,cur\n",
    "\n",
    "        "
   ]
  },
  {
   "cell_type": "code",
   "execution_count": 27,
   "id": "23e1aa14-518e-4884-bcaf-d5a18090b34a",
   "metadata": {},
   "outputs": [],
   "source": [
    "#creating a function to create tables \n",
    "\n",
    "def create_tables(conn,cur):\n",
    "    for i in create_table_queries:\n",
    "        cur.execute(i)\n",
    "        conn.commit()"
   ]
  },
  {
   "cell_type": "code",
   "execution_count": 28,
   "id": "dfdb8bc3-b0f0-4b9b-a6a8-41d00c5bf60a",
   "metadata": {},
   "outputs": [
    {
     "name": "stdout",
     "output_type": "stream",
     "text": [
      "127.0.0.1 postgres root\n",
      "<cursor object at 0x0000022DF1C7B760; closed: 0>\n"
     ]
    }
   ],
   "source": [
    "# Calling the create database function to get the connection and cursor string\n",
    "\n",
    "conn,cur=create_database()\n",
    "create_tables(conn,cur)\n",
    "conn.close()"
   ]
  },
  {
   "cell_type": "code",
   "execution_count": null,
   "id": "e767fa4a-ca0f-48d3-ba97-f31e8eb49213",
   "metadata": {},
   "outputs": [],
   "source": []
  }
 ],
 "metadata": {
  "kernelspec": {
   "display_name": "Python 3 (ipykernel)",
   "language": "python",
   "name": "python3"
  },
  "language_info": {
   "codemirror_mode": {
    "name": "ipython",
    "version": 3
   },
   "file_extension": ".py",
   "mimetype": "text/x-python",
   "name": "python",
   "nbconvert_exporter": "python",
   "pygments_lexer": "ipython3",
   "version": "3.11.8"
  }
 },
 "nbformat": 4,
 "nbformat_minor": 5
}
